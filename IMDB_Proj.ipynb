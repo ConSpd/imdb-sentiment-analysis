{
 "cells": [
  {
   "cell_type": "code",
   "execution_count": 11,
   "id": "01eebcc4",
   "metadata": {},
   "outputs": [],
   "source": [
    "import pandas as pd\n",
    "import nltk \n",
    "import random\n",
    "import re\n",
    "from nltk.stem import WordNetLemmatizer\n",
    "from bs4 import BeautifulSoup"
   ]
  },
  {
   "cell_type": "code",
   "execution_count": 4,
   "id": "552f10ea",
   "metadata": {},
   "outputs": [],
   "source": [
    "df = pd.read_csv('IMDB Dataset.csv',encoding='Latin-1')\n",
    "df['sentiment'] = df['sentiment'].map({'positive': 1, 'negative': 0})"
   ]
  },
  {
   "cell_type": "markdown",
   "id": "6c3aa51d",
   "metadata": {},
   "source": [
    "Δίνουμε τιμή 1 για τα θετικά και 0 για να αρνητικά"
   ]
  },
  {
   "cell_type": "code",
   "execution_count": 8,
   "id": "6fe2f5f4",
   "metadata": {},
   "outputs": [],
   "source": [
    "stopwords = set(nltk.corpus.stopwords.words(\"english\"))\n",
    "lemmatizer = WordNetLemmatizer()"
   ]
  },
  {
   "cell_type": "markdown",
   "id": "231c3d26",
   "metadata": {},
   "source": [
    "Ορίζουμε stopwords και lemmatizer αντικείμενο για να επεξεργαστούμε το κείμενο"
   ]
  },
  {
   "cell_type": "markdown",
   "id": "5cb96256",
   "metadata": {},
   "source": [
    "<h2>Φάση Προεπεξεργασίας Δεδομένων</h2>"
   ]
  },
  {
   "cell_type": "markdown",
   "id": "c0686cea",
   "metadata": {},
   "source": [
    "***\n",
    "<b>Συνάρτηση που αφαιρεί τα HTML tags</b>\n",
    "\n",
    "Η μέθοδος `get_text` αφαιρεί τα HTML tags και επιστρέφει μόνο το κείμενο.\n",
    "\n",
    "Με `strip=True` επιστρέφει χωρίς κενά πίσω"
   ]
  },
  {
   "cell_type": "code",
   "execution_count": 10,
   "id": "440c3fe4",
   "metadata": {},
   "outputs": [],
   "source": [
    "def html_clean(text):\n",
    "    soup = BeautifulSoup(text,\"html.parser\")\n",
    "    return soup.get_text()"
   ]
  },
  {
   "cell_type": "code",
   "execution_count": 18,
   "id": "ef7183c4",
   "metadata": {},
   "outputs": [],
   "source": [
    "def text_clean(text):\n",
    "    text = html_clean(text)\n",
    "    text = re.sub(r'[^A-Za-z0-9]+',' ',text) #Ότι δεν είναι κείμενο η αριθμός κόβεται\n",
    "    text = text.lower()\n",
    "    text = [lemmatizer.lemmatize(token) for token in text.split(\" \")]\n",
    "    text = [lemmatizer.lemmatize(token,\"v\") for token in text]\n",
    "    text = [word for word in text if not word in stopwords]\n",
    "    text = \" \".join(text)\n",
    "    return text"
   ]
  },
  {
   "cell_type": "code",
   "execution_count": 21,
   "id": "35582e0b",
   "metadata": {},
   "outputs": [],
   "source": [
    "df['Processed_Reviews'] = df.review.apply(lambda x: text_clean(x))"
   ]
  },
  {
   "cell_type": "markdown",
   "id": "52dc6f26",
   "metadata": {},
   "source": [
    "<b>Πως ήταν το κείμενο πριν την επεξεργασία</b>"
   ]
  },
  {
   "cell_type": "code",
   "execution_count": 30,
   "id": "51c5cdce",
   "metadata": {},
   "outputs": [
    {
     "data": {
      "text/plain": [
       "\"This a fantastic movie of three prisoners who become famous. One of the actors is george clooney and I'm not a fan but this roll is not bad. Another good thing about the movie is the soundtrack (The man of constant sorrow). I recommand this movie to everybody. Greetings Bart\""
      ]
     },
     "execution_count": 30,
     "metadata": {},
     "output_type": "execute_result"
    }
   ],
   "source": [
    "df.review[14]"
   ]
  },
  {
   "cell_type": "markdown",
   "id": "834509c2",
   "metadata": {},
   "source": [
    "<b>Πως κατέληξε μετά απο την επεξεργασία</b>"
   ]
  },
  {
   "cell_type": "code",
   "execution_count": 28,
   "id": "0f3cbb08",
   "metadata": {},
   "outputs": [
    {
     "data": {
      "text/plain": [
       "'fantastic movie three prisoner become famous one actor george clooney fan roll bad another good thing movie soundtrack man constant sorrow recommand movie everybody greet bart'"
      ]
     },
     "execution_count": 28,
     "metadata": {},
     "output_type": "execute_result"
    }
   ],
   "source": [
    "df['Processed_Reviews'][14]"
   ]
  },
  {
   "cell_type": "markdown",
   "id": "fdb8f12d",
   "metadata": {},
   "source": [
    "***\n",
    "<h2>Φάση Classification</h2>"
   ]
  },
  {
   "cell_type": "code",
   "execution_count": 32,
   "id": "afe11452",
   "metadata": {},
   "outputs": [],
   "source": [
    "from sklearn.svm import SVC\n",
    "from sklearn.pipeline import Pipeline\n",
    "from sklearn.feature_extraction.text import CountVectorizer\n",
    "from sklearn.model_selection import train_test_split\n",
    "from sklearn.metrics import classification_reporteport"
   ]
  },
  {
   "cell_type": "code",
   "execution_count": 33,
   "id": "217ec904",
   "metadata": {},
   "outputs": [],
   "source": [
    "x = df['Processed_Reviews']\n",
    "y = df['sentiment']"
   ]
  },
  {
   "cell_type": "code",
   "execution_count": 34,
   "id": "1c90d66d",
   "metadata": {},
   "outputs": [],
   "source": [
    "X_train, X_test, y_train, y_test = train_test_split(x,y,test_size=0.2,random_state=0)"
   ]
  },
  {
   "cell_type": "markdown",
   "id": "eb63cbde",
   "metadata": {},
   "source": [
    "To train_test_split χωρίζει έναν πίνακα σε train και test sets<br>\n",
    "To test_size συμβολίζει ότι το 20% θα πάει σε test και το 80% σε training<br>\n",
    "x = Πίνακας, y = Options"
   ]
  },
  {
   "cell_type": "markdown",
   "id": "b389de56",
   "metadata": {},
   "source": [
    "***\n",
    "<h3>Support Vector Machines</h3>"
   ]
  },
  {
   "cell_type": "code",
   "execution_count": 37,
   "id": "63bbf2b0",
   "metadata": {},
   "outputs": [],
   "source": [
    "count_vect = CountVectorizer().fit(df['Processed_Reviews'].values.astype('U'))\n",
    "bow_train = count_vect.transform(X_train.values.astype('U'))\n",
    "bow_test = count_vect.transform(X_test.values.astype('U'))"
   ]
  },
  {
   "cell_type": "markdown",
   "id": "aabe6635",
   "metadata": {},
   "source": [
    "To astype('U') λέει να μετατράπουν τα δεδομένα σε Unicode"
   ]
  },
  {
   "cell_type": "code",
   "execution_count": 38,
   "id": "748ad887",
   "metadata": {},
   "outputs": [],
   "source": [
    "SVM = SVC()\n",
    "\n",
    "SVM.fit(bow_train,y_train)\n",
    "\n",
    "predicted_SVM = SVM.predict(bow_test)"
   ]
  },
  {
   "cell_type": "code",
   "execution_count": 43,
   "id": "ddabfa64",
   "metadata": {},
   "outputs": [
    {
     "name": "stdout",
     "output_type": "stream",
     "text": [
      "              precision    recall  f1-score   support\n",
      "\n",
      "           0       0.89      0.85      0.87      5035\n",
      "           1       0.86      0.89      0.87      4965\n",
      "\n",
      "    accuracy                           0.87     10000\n",
      "   macro avg       0.87      0.87      0.87     10000\n",
      "weighted avg       0.87      0.87      0.87     10000\n",
      "\n"
     ]
    }
   ],
   "source": [
    "print(classification_report(y_test, predicted_SVM))"
   ]
  },
  {
   "cell_type": "markdown",
   "id": "3ca6d199",
   "metadata": {},
   "source": [
    "***\n",
    "<h3>Gaussian μορφή του Naive Bayes</h3>"
   ]
  },
  {
   "cell_type": "code",
   "execution_count": 65,
   "id": "2a63c446",
   "metadata": {},
   "outputs": [
    {
     "data": {
      "text/plain": [
       "GaussianNB()"
      ]
     },
     "execution_count": 65,
     "metadata": {},
     "output_type": "execute_result"
    }
   ],
   "source": [
    "from sklearn.naive_bayes import GaussianNB\n",
    "bow_train_NB = count_vect.transform(X_train).toarray()\n",
    "bow_test_NB = count_vect.transform(X_test).toarray()\n",
    "NB = GaussianNB()\n",
    "NB.fit(bow_train_NB,y_train)"
   ]
  },
  {
   "cell_type": "code",
   "execution_count": 66,
   "id": "c39d03dc",
   "metadata": {
    "scrolled": true
   },
   "outputs": [
    {
     "name": "stdout",
     "output_type": "stream",
     "text": [
      "              precision    recall  f1-score   support\n",
      "\n",
      "           0       0.61      0.85      0.71      5035\n",
      "           1       0.74      0.45      0.56      4965\n",
      "\n",
      "    accuracy                           0.65     10000\n",
      "   macro avg       0.68      0.65      0.63     10000\n",
      "weighted avg       0.68      0.65      0.63     10000\n",
      "\n"
     ]
    }
   ],
   "source": [
    "predicted_NB = NB.predict(bow_test_NB)\n",
    "print(classification_report(y_test, predicted_NB))"
   ]
  },
  {
   "cell_type": "markdown",
   "id": "709aa176",
   "metadata": {},
   "source": [
    "***\n",
    "<h3>Πολυωνυμική μορφή του Naive Bayes</h3>"
   ]
  },
  {
   "cell_type": "code",
   "execution_count": 69,
   "id": "242c813b",
   "metadata": {},
   "outputs": [
    {
     "data": {
      "text/plain": [
       "MultinomialNB()"
      ]
     },
     "execution_count": 69,
     "metadata": {},
     "output_type": "execute_result"
    }
   ],
   "source": [
    "from sklearn.naive_bayes import MultinomialNB\n",
    "M_NB = MultinomialNB()\n",
    "M_NB.fit(bow_train,y_train)\n",
    "\n",
    "predicted_M_NB = M_NB.predict(bow_test_NB)"
   ]
  },
  {
   "cell_type": "code",
   "execution_count": 72,
   "id": "5baff87f",
   "metadata": {
    "scrolled": true
   },
   "outputs": [
    {
     "name": "stdout",
     "output_type": "stream",
     "text": [
      "              precision    recall  f1-score   support\n",
      "\n",
      "           0       0.84      0.88      0.86      5035\n",
      "           1       0.87      0.83      0.85      4965\n",
      "\n",
      "    accuracy                           0.85     10000\n",
      "   macro avg       0.86      0.85      0.85     10000\n",
      "weighted avg       0.86      0.85      0.85     10000\n",
      "\n"
     ]
    }
   ],
   "source": [
    "print(classification_report(y_test, predicted_M_NB))"
   ]
  },
  {
   "cell_type": "markdown",
   "id": "5dbfbc69",
   "metadata": {},
   "source": [
    "***\n",
    "<h3>K-Nearest Neighbors</h3>"
   ]
  },
  {
   "cell_type": "code",
   "execution_count": 75,
   "id": "8df19c78",
   "metadata": {},
   "outputs": [
    {
     "data": {
      "text/plain": [
       "KNeighborsClassifier()"
      ]
     },
     "execution_count": 75,
     "metadata": {},
     "output_type": "execute_result"
    }
   ],
   "source": [
    "from sklearn.neighbors import KNeighborsClassifier\n",
    "KN = KNeighborsClassifier()\n",
    "KN.fit(bow_train,y_train)"
   ]
  },
  {
   "cell_type": "code",
   "execution_count": 77,
   "id": "bb687d66",
   "metadata": {},
   "outputs": [
    {
     "name": "stdout",
     "output_type": "stream",
     "text": [
      "              precision    recall  f1-score   support\n",
      "\n",
      "           0       0.64      0.66      0.65      5035\n",
      "           1       0.65      0.63      0.64      4965\n",
      "\n",
      "    accuracy                           0.64     10000\n",
      "   macro avg       0.64      0.64      0.64     10000\n",
      "weighted avg       0.64      0.64      0.64     10000\n",
      "\n"
     ]
    }
   ],
   "source": [
    "predictedKN = KN.predict(bow_test_NB)\n",
    "print(classification_report(y_test, predictedKN))"
   ]
  },
  {
   "cell_type": "markdown",
   "id": "9875e99f",
   "metadata": {},
   "source": [
    "***\n",
    "<h4>Γραφική Αναπαράσταση</h4>"
   ]
  },
  {
   "cell_type": "code",
   "execution_count": 83,
   "id": "dec1b3db",
   "metadata": {},
   "outputs": [
    {
     "data": {
      "text/plain": [
       "<BarContainer object of 4 artists>"
      ]
     },
     "execution_count": 83,
     "metadata": {},
     "output_type": "execute_result"
    },
    {
     "data": {
      "image/png": "[encoded data removed]",
      "text/plain": [
       "<Figure size 720x360 with 1 Axes>"
      ]
     },
     "metadata": {
      "needs_background": "light"
     },
     "output_type": "display_data"
    }
   ],
   "source": [
    "import matplotlib.pyplot as plt\n",
    "data = {'SVM':87,'Gaussian Naive':71,'Multi Naive':85,'KNeighbors':64}\n",
    "algs = list(data.keys())\n",
    "values = list(data.values())\n",
    "fig = plt.figure(figsize = (10, 5))\n",
    "plt.bar(algs,values,width=0.5)"
   ]
  },
  {
   "cell_type": "code",
   "execution_count": null,
   "id": "ab0aa248",
   "metadata": {},
   "outputs": [],
   "source": []
  }
 ],
 "metadata": {
  "kernelspec": {
   "display_name": "Python 3 (ipykernel)",
   "language": "python",
   "name": "python3"
  },
  "language_info": {
   "codemirror_mode": {
    "name": "ipython",
    "version": 3
   },
   "file_extension": ".py",
   "mimetype": "text/x-python",
   "name": "python",
   "nbconvert_exporter": "python",
   "pygments_lexer": "ipython3",
   "version": "3.9.7"
  }
 },
 "nbformat": 4,
 "nbformat_minor": 5
}
